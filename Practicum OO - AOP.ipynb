{
 "cells": [
  {
   "cell_type": "markdown",
   "metadata": {
    "deletable": true,
    "editable": true
   },
   "source": [
    "# Practicum OO - AOP\n",
    "Dit bestand bevat de practicumopgaven voor de module OO&AOP van het vak Advanced Technical Programming (TCIT-VKATP-17). \n",
    "\n",
    "Een Jupyter Notebook bestaat uit cells met code of toelichting. Sommige code-cells hoeven enkel uitgevoerd te worden om functies beschikbaar te maken, anderen moet je zelf in vullen (opdrachten staan duidelijk met kopjes gemarkeerd, je moet dan zelf de delen met TODO invullen). Je kunt de code per cel uitvoeren door de cel te selecteren en \"run cell\" te kiezen. De cel direct hieronder laadt de nodige modules in. Als je code niet naar verwachting werkt kan het zijn dat je deze cell moet runnen, of een van de andere cels vóór de cel met error. Let erop dat als je de Jupyter-server afsluit en later verder gaat moet je deze cells opnieuw runnen."
   ]
  },
  {
   "cell_type": "code",
   "execution_count": 46,
   "metadata": {
    "collapsed": true,
    "deletable": true,
    "editable": true,
    "pycharm": {
     "is_executing": false
    }
   },
   "outputs": [],
   "source": [
    "from unittest import *    \n",
    "import doctest\n",
    "import io\n",
    "import inspect\n",
    "from contextlib import redirect_stdout"
   ]
  },
  {
   "cell_type": "markdown",
   "metadata": {
    "deletable": true,
    "editable": true
   },
   "source": [
    "__Opdrachten die zijn gemarkeerd met _[PORTFOLIO]_ dienen te worden opgenomen in je portfolio voor de eindopgave__.\n",
    "\n",
    "Laat deze opdrachten door je docent aftekenen aan het einde van de les (of aan het begin van de volgende les)."
   ]
  },
  {
   "cell_type": "markdown",
   "metadata": {
    "deletable": true,
    "editable": true
   },
   "source": [
    "***\n",
    "## College 2: Reflectie en metaprogrammeren\n",
    "Deze opdrachten gaan over het college over reflectie en metaprogrammeren en dienen aan het einde van dat college te worden gemaakt.\n",
    "\n",
    "Maak ook de opdrachten in de reader!\n",
    "\n",
    "\n",
    "#### Opdracht 2.1 — OO in Python [Portfolio]\n",
    "Een Queue is gebaseerd op het FIFO-principe: First In First Out\n",
    "\n",
    "<img src=\"queue.png\" width=\"500px\">\n",
    "\n",
    "`enqueue` voegt een element achteraan toe.  \n",
    "`dequeue` haalt een element vooraan weg.\n",
    "\n",
    "De volgende klasse implementeert Queue:"
   ]
  },
  {
   "cell_type": "code",
   "execution_count": 7,
   "metadata": {
    "collapsed": false,
    "deletable": true,
    "editable": true,
    "pycharm": {
     "is_executing": false
    }
   },
   "outputs": [],
   "source": [
    "class MyQueue(list):\n",
    "    def __init__(self, a=[]):\n",
    "        list.__init__(self, a)\n",
    "    \n",
    "    def dequeue(self):\n",
    "        return self.pop(0) # geen fout-afhandeling\n",
    "    \n",
    "    def enqueue(self, x):\n",
    "        self.append(x)"
   ]
  },
  {
   "cell_type": "markdown",
   "metadata": {
    "deletable": true,
    "editable": true
   },
   "source": [
    "Python heeft een aantal ingebouwde queue-klassen: Queue, LifeQueue, PriorityQueue, en deque.\n",
    "\n",
    "`deque` staat voor double-ended queue: aan beide kanten van de queue kan worden toegevoegd en verwijderd.\n",
    "\n",
    "Breidt de klasse `MyQueue` uit tot de klasse `MyDeQue`.\n",
    "\n",
    "De klasse heeft de volgende methoden:\n",
    "* `appendright(x)`: voeg `x` aan de rechterkant toe\n",
    "* `appendleft(x)`: voeg `x` aan de linkerkant toe\n",
    "* `popright()`: verwijder en retourneer het element dat helemaal rechts staat\n",
    "* `popleft()`: verwijder en retourneer het element dat helemaal links staat\n",
    "* `reverse()`: keer de elementen in de queue om\n",
    "* `rotateright(n)`: verschuif de elementen `n` posities naar rechts.\n",
    "  Als `n < 0`: verschuif de elementen (`-n`)  posities naar links.\n",
    "* `rotateleft(n)`: verschuif de elementen `n` posities naar links.\n",
    "  Als `n < 0`: verschuif de elementen (`-n`) posities naar rechts.\n",
    "  \n",
    "Maak zoveel mogelijk gebruik van de andere methoden en methoden uit de super-klassen. Zorg voor een goede fout-afhandeling.\n",
    "\n",
    "Denk er ook aan dat je voldoende tests schrijft om de functionaliteit zoals hierboven gegeven kan garanderen!"
   ]
  },
  {
   "cell_type": "code",
   "execution_count": 8,
   "metadata": {
    "collapsed": true,
    "deletable": true,
    "editable": true,
    "pycharm": {
     "is_executing": false
    }
   },
   "outputs": [
    {
     "name": "stderr",
     "text": [
      ".",
      ".",
      ".",
      ".",
      ".",
      ".",
      ".",
      "\n----------------------------------------------------------------------\nRan 7 tests in 0.005s\n\nOK\n"
     ],
     "output_type": "stream"
    },
    {
     "data": {
      "text/plain": "<unittest.runner.TextTestResult run=7 errors=0 failures=0>"
     },
     "metadata": {},
     "output_type": "execute_result",
     "execution_count": 8
    }
   ],
   "source": [
    "class MyDeQue(MyQueue):\n",
    "    def appendright(self, x):\n",
    "        self.enqueue(x)\n",
    "\n",
    "    def appendleft(self, x):\n",
    "        self.reverse()\n",
    "        self.enqueue(x)\n",
    "        self.reverse()\n",
    "\n",
    "    def popright(self):\n",
    "        if len(self) > 0:\n",
    "            self.pop()\n",
    "\n",
    "    def popleft(self):\n",
    "        if len(self) > 0:\n",
    "            self.dequeue()\n",
    "\n",
    "    def rotateright(self, n):\n",
    "        if n < 0:\n",
    "            self.rotateleft(n * -1)\n",
    "        else:\n",
    "            for i in range(n):\n",
    "                self.insert(0, self.pop())\n",
    "\n",
    "    def rotateleft(self, n):\n",
    "        if n < 0:\n",
    "            self.rotateright(n * -1)\n",
    "        else:\n",
    "            self.reverse()\n",
    "            self.rotateright(n)\n",
    "            self.reverse()\n",
    "\n",
    "\n",
    "# if __name__ == '__main__':\n",
    "class MyDeQueTest(TestCase):\n",
    "    def setUp(self):\n",
    "        self.qu = MyDeQue([9, 4, 3, 7])\n",
    "        self.empty = MyDeQue()\n",
    "\n",
    "    def test_appendright(self):\n",
    "        self.qu.appendright(5)\n",
    "        self.assertEqual(self.qu, [9, 4, 3, 7, 5])\n",
    "        self.qu.appendright(8)\n",
    "        self.assertEqual(self.qu, [9, 4, 3, 7, 5, 8])\n",
    "\n",
    "    def test_appendleft(self):\n",
    "        self.qu.appendleft(5)\n",
    "        self.assertEqual(self.qu, [5, 9, 4, 3, 7])\n",
    "        self.qu.appendleft(8)\n",
    "        self.assertEqual(self.qu, [8, 5, 9, 4, 3, 7])\n",
    "\n",
    "    def test_popright(self):\n",
    "        self.qu.popright()\n",
    "        self.assertEqual(self.qu, [9, 4, 3])\n",
    "        self.qu.popright()\n",
    "        self.assertEqual(self.qu, [9, 4])\n",
    "        self.empty.popright()\n",
    "        self.assertEqual(self.empty, [])\n",
    "\n",
    "    def test_popleft(self):\n",
    "        self.qu.popleft()\n",
    "        self.assertEqual(self.qu, [4, 3, 7])\n",
    "        self.qu.popleft()\n",
    "        self.assertEqual(self.qu, [3, 7])\n",
    "        self.empty.popright()\n",
    "        self.assertEqual(self.empty, [])\n",
    "\n",
    "    def test_reverse(self):\n",
    "        self.qu.reverse()\n",
    "        self.assertEqual(self.qu, [7, 3, 4, 9])\n",
    "        self.qu.reverse()\n",
    "        self.assertEqual(self.qu, [9, 4, 3, 7])\n",
    "\n",
    "    def test_rotateright(self):\n",
    "        self.qu.rotateright(2)\n",
    "        self.assertEqual(self.qu, [3, 7, 9, 4])\n",
    "        self.qu.rotateright(-1)\n",
    "        self.assertEqual(self.qu, [7, 9, 4, 3])\n",
    "\n",
    "    def test_rotateleft(self):\n",
    "        self.qu.rotateleft(2)\n",
    "        self.assertEqual(self.qu, [3, 7, 9, 4])\n",
    "        self.qu.rotateleft(-1)\n",
    "        self.assertEqual(self.qu, [4, 3, 7, 9])\n",
    "\n",
    "\n",
    "test = MyDeQueTest()\n",
    "suite = TestLoader().loadTestsFromModule(test)\n",
    "TextTestRunner().run(suite)\n"
   ]
  },
  {
   "cell_type": "markdown",
   "metadata": {
    "deletable": true,
    "editable": true
   },
   "source": [
    "#### Opdracht 2.2 — `eval` en veiligheid [Portfolio]\n",
    "\n",
    "Raadpleeg de site https://www.programiz.com/python-programming/methods/build-in/eval\n",
    "\n",
    "Een eenvoudige interactieve expressie-evaluator is de volgende:"
   ]
  },
  {
   "cell_type": "code",
   "execution_count": 9,
   "metadata": {
    "collapsed": false,
    "deletable": true,
    "editable": true,
    "pycharm": {
     "is_executing": false
    }
   },
   "outputs": [
    {
     "name": "stdout",
     "text": [
      "yo lo\nResult: None\n"
     ],
     "output_type": "stream"
    },
    {
     "traceback": [
      "Traceback \u001b[1;36m(most recent call last)\u001b[0m:\n",
      "  File \u001b[0;32m\"c:\\users\\david\\appdata\\local\\programs\\python\\python37-32\\lib\\site-packages\\IPython\\core\\interactiveshell.py\"\u001b[0m, line \u001b[0;32m3296\u001b[0m, in \u001b[0;35mrun_code\u001b[0m\n    exec(code_obj, self.user_global_ns, self.user_ns)\n",
      "\u001b[1;36m  File \u001b[1;32m\"<ipython-input-9-674304599a45>\"\u001b[1;36m, line \u001b[1;32m3\u001b[1;36m, in \u001b[1;35m<module>\u001b[1;36m\u001b[0m\n\u001b[1;33m    print(\"Result:\", eval(r))\u001b[0m\n",
      "\u001b[1;36m  File \u001b[1;32m\"<string>\"\u001b[1;36m, line \u001b[1;32munknown\u001b[0m\n\u001b[1;33m    \u001b[0m\n\u001b[1;37m    ^\u001b[0m\n\u001b[1;31mSyntaxError\u001b[0m\u001b[1;31m:\u001b[0m unexpected EOF while parsing\n"
     ],
     "ename": "SyntaxError",
     "evalue": "unexpected EOF while parsing (<string>, line 0)",
     "output_type": "error"
    }
   ],
   "source": [
    "while True:\n",
    "    r = input(\"Type an expression: \")\n",
    "    print(\"Result:\", eval(r))"
   ]
  },
  {
   "cell_type": "markdown",
   "metadata": {
    "deletable": true,
    "editable": true
   },
   "source": [
    "Een dergelijke evaluator is onveilig. Als de gebruiker in een Linux-omgeving de expressie `os.system('rm -rf *')` intikt, kan er veel schade worden aangericht. Je kunt dit voorkomen door bij de eval-functie een dictionary mee te geven.\n",
    "\n",
    "Schrijf de klasse SimpleSecureEvaluator. De klasse bevat een dictionary-attribuut `d` en een methode `eval`.\n",
    "\n",
    "De klasse wordt gebruikt bij interactieve sessies, waarbij de gebruiker het volgende kan invoeren:\n",
    "* een toekenningsopdracht. De opdracht van de vorm `<variabele> = <expressie>` wordt opgeslagen in dictionary-attribuut `d`. Hierbij wordt <variabele> als key-waarde opgeslagen. De expressie wordt eerst geëvalueerd en het resultaat wordt als value-waarde bij de key-waarde opgeslagen. Ook opdrachten van de vorm `i = i +1` zijn toegestaan, maar alleen variabelen van voorafgaande toekenningsopdrachten mogen in de expressie voorkomen.\n",
    "* een expressie. Alleen variabelen van voorafgaande toekenningsopdrachten mogen in de expressie voorkomen. Bij de evaluatie van de expressie wordt gebruik gemaakt van `d`. Het resultaat wordt aan de gebruiker getoond.\n",
    "* de opdracht `mydir`. De dictionary `d` wordt dan getoond."
   ]
  },
  {
   "cell_type": "code",
   "execution_count": 10,
   "metadata": {
    "collapsed": true,
    "deletable": true,
    "editable": true,
    "pycharm": {
     "is_executing": false
    }
   },
   "outputs": [
    {
     "name": "stderr",
     "text": [
      ".",
      ".",
      ".",
      "\n----------------------------------------------------------------------\nRan 3 tests in 0.002s\n\nOK\n"
     ],
     "output_type": "stream"
    },
    {
     "data": {
      "text/plain": "<unittest.runner.TextTestResult run=3 errors=0 failures=0>"
     },
     "metadata": {},
     "output_type": "execute_result",
     "execution_count": 10
    }
   ],
   "source": [
    "import re\n",
    "\n",
    "\n",
    "class SimpleSecureEvaluator(object):\n",
    "    def __init__(self):\n",
    "        self.d = {}  # empty dictionary\n",
    "\n",
    "    def checkDic(self, expressie):\n",
    "        for e in re.sub(\"[^\\w]\", \" \", expressie).split():\n",
    "            if e not in self.d:\n",
    "                return 1\n",
    "        return 0\n",
    "\n",
    "    def checkDicWithStrings(self, expressie):\n",
    "        strings = re.findall(r'\"([^\"]*)\"', expressie)\n",
    "        toekening = expressie\n",
    "        for string in strings:\n",
    "            toekening = toekening.replace('\"' + string + '\"', '')\n",
    "        if expressie.find('=') > -1:\n",
    "            toekening = toekening.replace(toekening.split('=')[0], '')\n",
    "        return self.checkDic(toekening)\n",
    "\n",
    "    def eval(self, expressie):\n",
    "        expressie = expressie.replace(' ', '')\n",
    "        if expressie == 'mydir':\n",
    "            return self.d\n",
    "        if expressie.find('=') > -1:\n",
    "            if self.checkDicWithStrings(expressie):\n",
    "                return\n",
    "            self.d[expressie.split('=')[0]] = expressie.split('=')[1].split(';')[0]\n",
    "            return\n",
    "        if self.checkDicWithStrings(expressie):\n",
    "            return\n",
    "        return expressie\n",
    "\n",
    "\n",
    "class ExerciseTest(TestCase):\n",
    "    def setUp(self):\n",
    "        self.eval = SimpleSecureEvaluator()\n",
    "\n",
    "    # test of de var in de dic komt\n",
    "    def test_toekenningsopdracht(self):\n",
    "        self.eval.eval('key = \"val\"')\n",
    "        self.assertDictEqual(self.eval.eval('mydir'), {'key': '\"val\"'})\n",
    "\n",
    "    # test of de vars beschikbaar zijn\n",
    "    def test_command(self):\n",
    "        self.eval.eval('key = \"val\"')\n",
    "        self.eval.eval('lol = \"pok\"')\n",
    "        self.assertEqual(self.eval.eval('key(lol)'), 'key(lol)')\n",
    "        \n",
    "    def test_error(self):\n",
    "        self.eval.eval('key = \"val\"')\n",
    "        self.eval.eval('lol = \"pok\"')\n",
    "        self.assertEqual(self.eval.eval('key(lop)'), None)\n",
    "        self.assertEqual(self.eval.eval('key(\"lop\")'), 'key(\"lop\")')\n",
    "\n",
    "\n",
    "test = ExerciseTest()\n",
    "suite = TestLoader().loadTestsFromModule(test)\n",
    "TextTestRunner().run(suite)\n"
   ]
  },
  {
   "cell_type": "markdown",
   "metadata": {
    "deletable": true,
    "editable": true
   },
   "source": [
    "#### Opdracht 2.3.1 — Introspectie van functies [Portfolio]\n",
    "Schrijf een programma dat van een gegeven pyc-file (`function_demo.pyc`) nagaat welke functies de file bevat. Bepaal bij iedere functie de signature en de documentatie. Test de functies.\n",
    "\n",
    "Ga als volgt te werk:\n",
    "* Pas de opdracht `dir(<filename>)` toe. Het resultaat is een lijst van element-namen van de file. De lijst bevat strings.\n",
    "* Bepaal van ieder element het type. Gebruik hierbij de eval-functie.\n",
    "* Maak gebruik van het volgende: voor een functie `f` geldt: `type(f).__name__ = 'function'`.\n",
    "* Gebruikt de functies `signature` en `getdoc` van de module `inspect`."
   ]
  },
  {
   "cell_type": "code",
   "execution_count": 70,
   "metadata": {
    "collapsed": true,
    "deletable": true,
    "editable": true,
    "pycharm": {
     "is_executing": false
    }
   },
   "outputs": [
    {
     "data": {
      "text/plain": "['insertionSort', 'isSorted', 'mergeSort']"
     },
     "metadata": {},
     "output_type": "execute_result",
     "execution_count": 70
    }
   ],
   "source": [
    "import function_demo\n",
    "\n",
    "# options: 0=only return list, 1=print no doc, 2=print doc\n",
    "def print_functions(o, option=0):\n",
    "    r = []\n",
    "    for i in dir(o):\n",
    "        if eval(\"type(o.\" + i + \").__name__ == 'function'\"):\n",
    "            if option > 0:\n",
    "                print(\"Function: \" + i)\n",
    "            if option > 1:\n",
    "                print(eval(\"inspect.signature(o.\" + i + \")\"))\n",
    "                print(eval(\"inspect.getdoc(o.\" + i + \")\"))\n",
    "            r.append(i)\n",
    "    return r\n",
    "\n",
    "print_functions(function_demo)\n"
   ]
  },
  {
   "cell_type": "markdown",
   "metadata": {
    "deletable": true,
    "editable": true
   },
   "source": [
    "#### Opdracht 2.3.2 — Introspectie van klassen [Portfolio]\n",
    "Schrijf een programma dat van de gegeven pyc-file (`class_demo.pyc`) nagaat welke klassen de file bevat.\n",
    "\n",
    "Ga te werk zoals bij opdracht 2.3.1.\n",
    "\n",
    "Bedenk daarbij het volgende:\n",
    "* Voor een klasse `C` geldt: `type(c).__name__ == 'type'`\n",
    "* Voor een methode `m` geldt: `type(m).__name__ == 'function'`"
   ]
  },
  {
   "cell_type": "code",
   "execution_count": 71,
   "metadata": {
    "collapsed": true,
    "deletable": true,
    "editable": true,
    "pycharm": {
     "is_executing": false
    }
   },
   "outputs": [
    {
     "name": "stdout",
     "text": [
      "Class: BST\nFunction: __init__\nFunction: __repr__\nFunction: delete\nFunction: insert\nFunction: search\nClass: BSTNode\nFunction: __init__\nFunction: __repr__\nFunction: delete\nFunction: getParent\nFunction: insert\nFunction: insertArray\nFunction: parentMinRightTree\nFunction: search\nFunction: search2\nClass: TypeVar\nFunction: __copy__\nFunction: __deepcopy__\nFunction: __init__\nFunction: __reduce__\nFunction: __repr__\n"
     ],
     "output_type": "stream"
    },
    {
     "data": {
      "text/plain": "[['BST', ['__init__', '__repr__', 'delete', 'insert', 'search']],\n ['BSTNode',\n  ['__init__',\n   '__repr__',\n   'delete',\n   'getParent',\n   'insert',\n   'insertArray',\n   'parentMinRightTree',\n   'search',\n   'search2']],\n ['TypeVar',\n  ['__copy__', '__deepcopy__', '__init__', '__reduce__', '__repr__']]]"
     },
     "metadata": {},
     "output_type": "execute_result",
     "execution_count": 71
    }
   ],
   "source": [
    "import class_demo\n",
    "# options: 0=only return list, 1=print no doc, 2=print doc\n",
    "def print_classes(o, option=0):\n",
    "    r = []\n",
    "    for i in dir(o):\n",
    "        if eval(\"type(o.\" + i + \").__name__ == 'type'\"):\n",
    "            if option > 0:\n",
    "                print(\"Class: \" + i)\n",
    "            if option > 1:\n",
    "                print(eval(\"inspect.signature(o.\" + i + \")\"))\n",
    "                print(eval(\"inspect.getdoc(o.\" + i + \")\"))\n",
    "            r.append([i, print_functions(eval(\"o.\"+i), option)])\n",
    "    return r\n",
    "\n",
    "print_classes(class_demo)"
   ]
  },
  {
   "cell_type": "markdown",
   "metadata": {
    "deletable": true,
    "editable": true
   },
   "source": [
    "#### Practicumeindopgave\n",
    "Gebruik de beschrijving van de simulator in hoofdstuk 6.1 van de reader en introspectie om:\n",
    "* Het functioneren van de simulator te achterhalen;\n",
    "* Tests te kunnen draaien om de correctheid van de simulator te achterhalen (functioneert de simulator vergelijkbaar met de fysieke opstelling?);\n",
    "* De controller unit van de simulator te vervangen door een eigen geschreven variant.\n",
    "\n",
    "De Python-byte code van de simulator is toegevoegd in de folder `simulator`. Gebruik `main.py` om de simulator te starten.   \n",
    "De GUI vereist de installatie van PyGame; gebruik `pip3 install pygame` in een prompt om de pygame-module te installeren (draai als Admin op Windows)."
   ]
  }
 ],
 "metadata": {
  "kernelspec": {
   "display_name": "Python 3",
   "language": "python",
   "name": "python3"
  },
  "language_info": {
   "codemirror_mode": {
    "name": "ipython",
    "version": 3
   },
   "file_extension": ".py",
   "mimetype": "text/x-python",
   "name": "python",
   "nbconvert_exporter": "python",
   "pygments_lexer": "ipython3",
   "version": "3.5.2"
  },
  "pycharm": {
   "stem_cell": {
    "cell_type": "raw",
    "source": [],
    "metadata": {
     "collapsed": false
    }
   }
  }
 },
 "nbformat": 4,
 "nbformat_minor": 2
}